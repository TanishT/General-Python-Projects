{
 "cells": [
  {
   "cell_type": "code",
   "execution_count": 4,
   "metadata": {},
   "outputs": [
    {
     "output_type": "error",
     "ename": "ModuleNotFoundError",
     "evalue": "No module named 'numpy'",
     "traceback": [
      "\u001b[1;31m---------------------------------------------------------------------------\u001b[0m",
      "\u001b[1;31mModuleNotFoundError\u001b[0m                       Traceback (most recent call last)",
      "\u001b[1;32m<ipython-input-4-c3d45951b5de>\u001b[0m in \u001b[0;36m<module>\u001b[1;34m\u001b[0m\n\u001b[0;32m      2\u001b[0m     \u001b[0mprint\u001b[0m\u001b[1;33m(\u001b[0m\u001b[1;34m\"\\n\"\u001b[0m\u001b[1;33m)\u001b[0m\u001b[1;33m\u001b[0m\u001b[1;33m\u001b[0m\u001b[0m\n\u001b[0;32m      3\u001b[0m \u001b[1;33m\u001b[0m\u001b[0m\n\u001b[1;32m----> 4\u001b[1;33m \u001b[1;32mimport\u001b[0m \u001b[0mnumpy\u001b[0m \u001b[1;32mas\u001b[0m \u001b[0mnp\u001b[0m\u001b[1;33m\u001b[0m\u001b[1;33m\u001b[0m\u001b[0m\n\u001b[0m\u001b[0;32m      5\u001b[0m \u001b[1;33m\u001b[0m\u001b[0m\n\u001b[0;32m      6\u001b[0m \u001b[1;33m\u001b[0m\u001b[0m\n",
      "\u001b[1;31mModuleNotFoundError\u001b[0m: No module named 'numpy'"
     ]
    }
   ],
   "source": [
    "def printLine():\n",
    "    print(\"\\n\")\n",
    "\n",
    "import numpy as np\n",
    "\n",
    "\n",
    "np.array([1, 2, 3]) #generating basic numpy array\n",
    "\n",
    "\n",
    "print(np.zeros(3)) #generates an array with three slots, all with value 0\n",
    "printLine()\n",
    "\n",
    "print(np.ones((4,5))) #generates 2-d array with 4 rows and 5 cols\n",
    "printLine()\n",
    "\n",
    "print(np.full((5,4), 3.14))#generates 2-d array with 5 rows and 4 cols all values as 3.14\n",
    "printLine()\n",
    "\n",
    "\n",
    "#basic numy array stats\n",
    "size = np.full((5,5), 4)\n",
    "print(size)\n",
    "printLine()\n",
    "\n",
    "print(size.ndim) #number of dimensions\n",
    "printLine()\n",
    "\n",
    "print(size.size) #num elements\n",
    "printLine()\n",
    "\n",
    "print(size.shape) #prints num of cols, rows\n",
    "printLine()\n",
    "\n",
    "print(size.dtype) #what type of data is in array - only one type allowed\n",
    "printLine()\n",
    "\n",
    "#random nums\n",
    "import random \n",
    "  \n",
    "random.seed(3) \n",
    "print(random.randint(1, 1000)) \n",
    "\n",
    "random.seed(3)\n",
    "print(random.randint(1, 1000))\n",
    "\n",
    "random.seed(3)\n",
    "print(random.randint(1, 1000))\n",
    "printLine()\n",
    "\n",
    "#accessing and editing array vals\n",
    "edit = np.full((5,5), 3)\n",
    "print(edit)\n",
    "print(edit[0,1]) #prints val of number in first row, second col slot\n",
    "\n",
    "\n",
    "edit[0,1] = 222.2 #edited value of number in first row, second col slot\n",
    "printLine()\n",
    "print(edit) #array cant hold .2 part b/c only data type in there is int right now\n",
    "\n",
    "#concatenating arrays\n",
    "printLine()\n",
    "x = np.array([1, 2, 3])\n",
    "y = np.array([3, 2, 1])\n",
    "print(np.concatenate([x, y])) #result: 1 2 3 3 2 1 \n",
    "\n",
    "#formatting arrays using vertical stacking\n",
    "printLine()\n",
    "x = np.array([1, 2, 3])\n",
    "grid = np.array([[9, 8, 7], [6, 5, 4]])\n",
    "print(np.vstack([x, grid])) #prints array in rows of 3 because first array is in set of 3\n",
    "printLine()\n",
    "\n",
    "#formatting arrays using np.arange\n",
    "print(\"A\\n\", np.arange(4).reshape(2, 2), \"\\n\") #prints array with vals 0-3 \n",
    "print(\"A\\n\", np.arange(4, 10, 2) ,\"\\n\") #prints array with vals 4-9 incremented by 2\n",
    "\n",
    "#basic math functions\n",
    "x = [-2, -1, 1, 2]\n",
    "\n",
    "print(\"Absolute value: \", np.abs(x))\n",
    "print(\"Exponential: \", np.exp(x)) #takes e to the power of elements of x\n",
    "print(\"Logarithm: \", np.log(np.abs(x))) #takes log of abs value of elements of x\n",
    "\n",
    "#boolean operations - np.where\n",
    "y = np.random.rand(3) #2-d array of random nums, 3 rows and 3 cols\n",
    "printLine()\n",
    "y > 0.5\n",
    "print(np.where(y > 0.5))"
   ]
  },
  {
   "cell_type": "code",
   "execution_count": 3,
   "metadata": {},
   "outputs": [
    {
     "output_type": "error",
     "ename": "ModuleNotFoundError",
     "evalue": "No module named 'numpy'",
     "traceback": [
      "\u001b[1;31m---------------------------------------------------------------------------\u001b[0m",
      "\u001b[1;31mModuleNotFoundError\u001b[0m                       Traceback (most recent call last)",
      "\u001b[1;32m<ipython-input-3-3e4ead4437dd>\u001b[0m in \u001b[0;36m<module>\u001b[1;34m\u001b[0m\n\u001b[1;32m----> 1\u001b[1;33m \u001b[1;32mimport\u001b[0m \u001b[0mnumpy\u001b[0m \u001b[1;32mas\u001b[0m \u001b[0mnp\u001b[0m\u001b[1;33m\u001b[0m\u001b[1;33m\u001b[0m\u001b[0m\n\u001b[0m\u001b[0;32m      2\u001b[0m \u001b[1;33m\u001b[0m\u001b[0m\n\u001b[0;32m      3\u001b[0m \u001b[1;31m#aggregation\u001b[0m\u001b[1;33m\u001b[0m\u001b[1;33m\u001b[0m\u001b[1;33m\u001b[0m\u001b[0m\n\u001b[0;32m      4\u001b[0m \u001b[1;33m\u001b[0m\u001b[0m\n\u001b[0;32m      5\u001b[0m \u001b[1;31m#sum all vals\u001b[0m\u001b[1;33m\u001b[0m\u001b[1;33m\u001b[0m\u001b[1;33m\u001b[0m\u001b[0m\n",
      "\u001b[1;31mModuleNotFoundError\u001b[0m: No module named 'numpy'"
     ]
    }
   ],
   "source": [
    "import numpy as np\n",
    "\n",
    "#aggregation\n",
    "\n",
    "#sum all vals\n",
    "nums = np.random.random(100)\n",
    "totalSum = np.sum(nums) #sums up all values of nums\n",
    "print(totalSum)\n",
    "\n",
    "#sum of a column\n",
    "cols = np.random.random((3,4))\n",
    "print(\"\\n\", cols)\n",
    "print(\"\\n sum of all element in columns\", cols.sum(axis = 0))\n",
    "print(\"\\n sum of all element in rows\", cols.sum(axis = 1))\n",
    "\n",
    "#basic statistics functions\n",
    "print(\"\\n\", np.std(cols)) #mean standard deviation\n",
    "print(\"\\n\",np.argmin(cols)) #prints index of the smallest element\n",
    "print(\"\\n\", np.percentile(cols, 50))#prints number in 50 percentile"
   ]
  },
  {
   "cell_type": "code",
   "execution_count": null,
   "metadata": {},
   "outputs": [],
   "source": [
    "a = np.array([0, 1, 2])\n",
    "b = np.array([5, 5, 5])\n",
    "a + b"
   ]
  },
  {
   "cell_type": "code",
   "execution_count": null,
   "metadata": {},
   "outputs": [],
   "source": []
  }
 ],
 "metadata": {
  "kernelspec": {
   "display_name": "Python 3",
   "language": "python",
   "name": "python3"
  },
  "language_info": {
   "codemirror_mode": {
    "name": "ipython",
    "version": 3
   },
   "file_extension": ".py",
   "mimetype": "text/x-python",
   "name": "python",
   "nbconvert_exporter": "python",
   "pygments_lexer": "ipython3",
   "version": "3.8.0-final"
  }
 },
 "nbformat": 4,
 "nbformat_minor": 2
}