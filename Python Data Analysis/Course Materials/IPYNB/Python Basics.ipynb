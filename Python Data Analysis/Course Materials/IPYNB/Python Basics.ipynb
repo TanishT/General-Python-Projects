{
 "cells": [
  {
   "cell_type": "markdown",
   "metadata": {},
   "source": [
    "*first\n"
   ]
  },
  {
   "cell_type": "markdown",
   "metadata": {},
   "source": [
    "<h2> tan </h2>"
   ]
  },
  {
   "cell_type": "markdown",
   "metadata": {},
   "source": [
    "<b> tanish </b>"
   ]
  },
  {
   "cell_type": "markdown",
   "metadata": {},
   "source": [
    "*first"
   ]
  },
  {
   "cell_type": "code",
   "execution_count": 1,
   "metadata": {},
   "outputs": [
    {
     "ename": "TypeError",
     "evalue": "__init__() missing 3 required positional arguments: 'author', 'numberOfPages', and 'publisher'",
     "output_type": "error",
     "traceback": [
      "\u001b[1;31m---------------------------------------------------------------------------\u001b[0m",
      "\u001b[1;31mTypeError\u001b[0m                                 Traceback (most recent call last)",
      "\u001b[1;32m<ipython-input-1-896f9caec2dc>\u001b[0m in \u001b[0;36m<module>\u001b[1;34m\u001b[0m\n\u001b[0;32m      8\u001b[0m \u001b[1;33m\u001b[0m\u001b[0m\n\u001b[0;32m      9\u001b[0m \u001b[1;31m#creating an instance of book class\u001b[0m\u001b[1;33m\u001b[0m\u001b[1;33m\u001b[0m\u001b[1;33m\u001b[0m\u001b[0m\n\u001b[1;32m---> 10\u001b[1;33m \u001b[0mtestBook\u001b[0m \u001b[1;33m=\u001b[0m \u001b[0mBook\u001b[0m\u001b[1;33m(\u001b[0m\u001b[1;34m\"Diary of a Wimpy Kid, Jeff Kinney, 250, randomHouse\"\u001b[0m\u001b[1;33m)\u001b[0m\u001b[1;33m\u001b[0m\u001b[1;33m\u001b[0m\u001b[0m\n\u001b[0m\u001b[0;32m     11\u001b[0m \u001b[0mprint\u001b[0m\u001b[1;33m(\u001b[0m\u001b[0mtestBook\u001b[0m\u001b[1;33m.\u001b[0m\u001b[0mtitle\u001b[0m\u001b[1;33m)\u001b[0m\u001b[1;33m\u001b[0m\u001b[1;33m\u001b[0m\u001b[0m\n",
      "\u001b[1;31mTypeError\u001b[0m: __init__() missing 3 required positional arguments: 'author', 'numberOfPages', and 'publisher'"
     ]
    }
   ],
   "source": [
    "class Book:\n",
    "    def __init__(self, title, author, numberOfPages, publisher):\n",
    "        #self refers to current class, in this case, book class\n",
    "        self.title = title\n",
    "        self.author = author\n",
    "        self.numberOfPages = numberOfPages\n",
    "        self.publisher = publisher\n",
    "        \n",
    "#creating an instance of book class\n",
    "testBook = Book(\"Diary of a Wimpy Kid, Jeff Kinney, 250, randomHouse\")\n",
    "print(testBook.title)"
   ]
  },
  {
   "cell_type": "code",
   "execution_count": null,
   "metadata": {},
   "outputs": [],
   "source": [
    "class Book:\n",
    "    \n",
    "    def __init__(self, title, author, numberOfPages, publisher):\n",
    "        #self refers to current class, in this case, book class\n",
    "        self.title = title\n",
    "        self.author = author\n",
    "        self.numberOfPages = numberOfPages\n",
    "        self.publisher = publisher\n",
    "\n",
    "        \n",
    "#creating an instance of book class\n",
    "testBook = Book(\"Diary of a Wimpy Kid\", \"Jeff Kinney\" , 250, \"randomHouse\")\n",
    "print(testBook.title)\n",
    "\n",
    "#edit attributes of class\n",
    "testBook.author = \"Tanish Tyagi\"\n",
    "print(testBook.author)"
   ]
  },
  {
   "cell_type": "code",
   "execution_count": 11,
   "metadata": {},
   "outputs": [
    {
     "name": "stdout",
     "output_type": "stream",
     "text": [
      "99\n",
      "100\n",
      "91\n",
      "[95.6, 89, 91]\n"
     ]
    },
    {
     "data": {
      "text/plain": [
       "474.6"
      ]
     },
     "execution_count": 11,
     "metadata": {},
     "output_type": "execute_result"
    }
   ],
   "source": [
    "testScores = [98.1, 95.6, 89, 91, 100]\n",
    "testScores[0] = 99;\n",
    "print(testScores[0])\n",
    "print(testScores[-1]) #prints last element\n",
    "print(testScores[-2]) #prints second last element\n",
    "print(testScores[1:4]) #prints values of index 1 -4\n",
    "sum(testScores) #adds up sum of all elements in list\n"
   ]
  },
  {
   "cell_type": "code",
   "execution_count": null,
   "metadata": {},
   "outputs": [],
   "source": [
    "import sys\n",
    "guests = [\"Joey\", \"Martin\", \"Marie\"]\n",
    "print(str(sys.getsizeof(guests)))\n",
    "guests.append(7) #adds seven to end of list\n",
    "guests.insert(1, \"Tanish\") #replaces index 1 with Tanish\n",
    "guests.remove(\"Tanish\") #removes element with value Tanish\n",
    "print(guests.index(7)) # print index with value 7\n",
    "del guests[0] #deletes value of first element\n",
    "print(guests)\n",
    "len(guests) #prints number of elements"
   ]
  },
  {
   "cell_type": "code",
   "execution_count": null,
   "metadata": {},
   "outputs": [],
   "source": [
    "import sys\n",
    "# TODO Step 1 - Replace the ?? by the proper code to create an empty list\n",
    "guests = []\n",
    "\n",
    "# TODO Step 2 - Add Joey, Martin and Marie to the list\n",
    "guests = [\"Joey\", \"Martin\", \"Marie\"]\n",
    "# TODO Step 3 – display the size of the list\n",
    "print(str(sys.getsizeof(guests)))\n",
    "# TODO Step 4 - Replace Martin with John in the list\n",
    "guests[1] = \"John\"\n",
    "# TODO Step 5 - Remove Joey from the list\n",
    "guests[0] = \"\";\n",
    "\n",
    "# print the content of the list\n",
    "for guest in guests :\n",
    "\tprint(guest)\n"
   ]
  },
  {
   "cell_type": "code",
   "execution_count": null,
   "metadata": {},
   "outputs": [],
   "source": [
    "dictionary = {\"Tanish\": \"Tansih\", \"Riya\": 2, \"Urvashi\": 45} #value in quotes is the key, next value is value\n",
    "print(dictionary[\"Tanish\"])\n",
    "dictionary[\"Tanish\"] = 45; #replacing value of key Tanish with 45\n",
    "dictionary.pop(\"Tanish\") #deltes key Tanish and value associated with Key Tanish\n",
    "print(dictionary)"
   ]
  },
  {
   "cell_type": "code",
   "execution_count": null,
   "metadata": {},
   "outputs": [],
   "source": [
    "import sys\n",
    "dictionary = {\"Tanish\": \"Tansih\", \"Riya\": 2, \"Urvashi\": 45}\n",
    "print(str(sys.getsizeof(dictionary)))"
   ]
  },
  {
   "cell_type": "code",
   "execution_count": 1,
   "metadata": {},
   "outputs": [
    {
     "ename": "IndexError",
     "evalue": "list assignment index out of range",
     "output_type": "error",
     "traceback": [
      "\u001b[1;31m---------------------------------------------------------------------------\u001b[0m",
      "\u001b[1;31mIndexError\u001b[0m                                Traceback (most recent call last)",
      "\u001b[1;32m<ipython-input-1-7645e300a525>\u001b[0m in \u001b[0;36m<module>\u001b[1;34m\u001b[0m\n\u001b[0;32m      1\u001b[0m \u001b[0mfrequency\u001b[0m \u001b[1;33m=\u001b[0m \u001b[1;33m[\u001b[0m\u001b[1;33m]\u001b[0m\u001b[1;33m\u001b[0m\u001b[1;33m\u001b[0m\u001b[0m\n\u001b[1;32m----> 2\u001b[1;33m \u001b[0mfrequency\u001b[0m\u001b[1;33m[\u001b[0m\u001b[1;36m0\u001b[0m\u001b[1;33m]\u001b[0m \u001b[1;33m=\u001b[0m \u001b[1;34m\"test\"\u001b[0m\u001b[1;33m\u001b[0m\u001b[1;33m\u001b[0m\u001b[0m\n\u001b[0m\u001b[0;32m      3\u001b[0m \u001b[0mprint\u001b[0m\u001b[1;33m(\u001b[0m\u001b[0mfrequency\u001b[0m\u001b[1;33m)\u001b[0m\u001b[1;33m\u001b[0m\u001b[1;33m\u001b[0m\u001b[0m\n",
      "\u001b[1;31mIndexError\u001b[0m: list assignment index out of range"
     ]
    }
   ],
   "source": [
    "frequency = []\n",
    "frequency[0] = \"test\"\n",
    "print(frequency)"
   ]
  },
  {
   "cell_type": "code",
   "execution_count": null,
   "metadata": {},
   "outputs": [],
   "source": [
    "name = input(\"What is your name ?\") #taking in user input\n",
    "\n",
    "if len(name) == 0:\n",
    "    print(\"Hello World !\")\n",
    "else:\n",
    "    print(\"Hello\", name)"
   ]
  },
  {
   "cell_type": "code",
   "execution_count": null,
   "metadata": {},
   "outputs": [],
   "source": [
    "2 == 2 # -> True\n",
    "2 == 3 # -> False\n",
    "4 != 4 # -> False\n",
    "4!= 5 # -> True\n",
    "1 < 2 # -> True\n",
    "1 < 1 # -> False\n",
    "1 <= 1 # -> True\n",
    "3 > 4 # -> False\n",
    "5 > 4 # -> True\n",
    "5 >= 4 # -> True"
   ]
  },
  {
   "cell_type": "code",
   "execution_count": null,
   "metadata": {},
   "outputs": [],
   "source": [
    "not(True) and False and not(True and False) "
   ]
  },
  {
   "cell_type": "code",
   "execution_count": null,
   "metadata": {},
   "outputs": [],
   "source": [
    "myList = [4, 2, 3, 2, 10]\n",
    "myStringList = [\"a\", \"b\", \"c\", \"d\"]\n",
    "randomString = \"The weather is quite beautiful today !\"\n",
    "\n",
    "4 in myList # True\n",
    "0 in myList # False\n",
    "0 in myStringList # False\n",
    "\"c\" in myStringList # True\n",
    "\"e\" in myStringList # False\n",
    "\"weather\" in randomString # True\n",
    "\"quite\" in randomString # True\n",
    "\"rain ?\" in randomString # False"
   ]
  },
  {
   "cell_type": "code",
   "execution_count": null,
   "metadata": {},
   "outputs": [],
   "source": [
    "myList = [1,2,3,4]\n",
    "for elt in myList:\n",
    "    #every time loop iterates, sets current index value of mylist to var elt\n",
    "    print(elt)"
   ]
  },
  {
   "cell_type": "code",
   "execution_count": null,
   "metadata": {},
   "outputs": [],
   "source": [
    "for i in range(0,5,1):\n",
    "    #prints nums from 0-4, increments by 1 every time\n",
    "    #parameters for range method - start val, end val, increment val\n",
    "    print(i)"
   ]
  },
  {
   "cell_type": "code",
   "execution_count": null,
   "metadata": {},
   "outputs": [],
   "source": [
    "numberOfTrees = 0\n",
    "\n",
    "while numberOfTrees < 10:\n",
    "    numberOfTrees += 1\n",
    "    print(\"I planted\", numberOfTrees, \"trees\")\n",
    "    \n",
    "print(\"I have a forest!\")"
   ]
  },
  {
   "cell_type": "code",
   "execution_count": null,
   "metadata": {},
   "outputs": [],
   "source": [
    "for i in range (10):\n",
    "    print(i)\n",
    "    \n",
    "    if i == 2 or i == 5:\n",
    "        continue\n",
    "        #continue breaks loop at this point, print (i * 2) doesnt execute\n",
    "    print(i*2)  "
   ]
  },
  {
   "cell_type": "code",
   "execution_count": null,
   "metadata": {},
   "outputs": [],
   "source": [
    "basket = [\"apple\", \"orange\", \"banana\"]\n",
    "\n",
    "for fruit in basket:\n",
    "    if fruit == \"orange\":\n",
    "        print(\"I have an\", fruit, \"!\")\n",
    "        break\n",
    "    else:\n",
    "        print(\"no\")"
   ]
  },
  {
   "cell_type": "code",
   "execution_count": 22,
   "metadata": {},
   "outputs": [
    {
     "name": "stdout",
     "output_type": "stream",
     "text": [
      "Your starting money is: 1000 dollars. \n",
      "\n",
      "If you predict the number correctly, your money be multiplied by 50. Otherwise, you will lose the money you betted.\n",
      "\n",
      "Choose a number between 0 and 49: 27\n",
      "How much money would you like to bet? 100\n",
      "\n",
      "The wheel is spinning...\n",
      "...\n",
      "...\n",
      "...\n",
      "...\n",
      "...\n",
      "\n",
      "Your guess was wrong. Your money s now: 900\n",
      "\n",
      "Choose a number between 0 and 49: 49\n",
      "How much money would you like to bet? 900\n",
      "\n",
      "Your guess was wrong. Your money s now: 0\n",
      "\n",
      "You are running out of money! You have lost!!\n"
     ]
    }
   ],
   "source": [
    "import random\n",
    "\n",
    "#starting values\n",
    "money = 1000\n",
    "print(\"Your starting money is: 1000 dollars. \\n\\nIf you predict the number correctly, your money be multiplied by 50. Otherwise, you will lose the money you betted.\")\n",
    "\n",
    "#generate random number\n",
    "computerGeneratedNumber = random.randrange(0,49,1)\n",
    "\n",
    "while money > 0:\n",
    "    #asking user for number and bet\n",
    "    numberChosen = input(\"\\nChoose a number between 0 and 49: \")\n",
    "    numberChosen = int(numberChosen)\n",
    "\n",
    "    #validating if number is legal\n",
    "    while numberChosen > 49 or numberChosen < 0:\n",
    "      print(\"\\nYour guess was illegal! Try again!\")\n",
    "      numberChosen = input(\"\\nChoose a number between 0 and 49: \")\n",
    "      numberChosen = int(numberChosen)\n",
    "\n",
    "    moneyAtStake = input(\"How much money would you like to bet? \")\n",
    "    moneyAtStake = int(moneyAtStake)\n",
    "    \n",
    "    #checking if bet is legal\n",
    "    if moneyAtStake < money:\n",
    "      print(\"\\nThe wheel is spinning...\")\n",
    "      for i in range (0,5,1):\n",
    "        print(\"...\")\n",
    "\n",
    "    while moneyAtStake > money:\n",
    "      print(\"Your bet is too big! Bet another value: \")\n",
    "\n",
    "    #sequence for determining new money\n",
    "    if numberChosen == computerGeneratedNumber:\n",
    "      money *= 50\n",
    "      print(\"\\nYou guessed correctly! Your money is now: \"+str(money))\n",
    "    elif numberChosen +5 == computerGeneratedNumber or numberChosen - 5 == computerGeneratedNumber:\n",
    "      money *= 10\n",
    "      print(\"\\nYour guess was close! Your money is now: \"+str(money))\n",
    "    else:\n",
    "      money -= moneyAtStake\n",
    "      print(\"\\nYour guess was wrong. Your money s now: \"+ str(money))\n",
    "    \n",
    "    if money <= 25:\n",
    "      print(\"\\nYou are running out of money! You have lost!!\")\n",
    "      break\n"
   ]
  },
  {
   "cell_type": "code",
   "execution_count": 17,
   "metadata": {},
   "outputs": [
    {
     "data": {
      "text/plain": [
       "42"
      ]
     },
     "execution_count": 17,
     "metadata": {},
     "output_type": "execute_result"
    }
   ],
   "source": [
    "def displayPerimeter(length, width):\n",
    "    perimeter = 2*(length + width)\n",
    "    return(perimeter) \n",
    "    \n",
    "displayPerimeter(10,11)\n"
   ]
  },
  {
   "cell_type": "code",
   "execution_count": 16,
   "metadata": {},
   "outputs": [
    {
     "name": "stdout",
     "output_type": "stream",
     "text": [
      "8\n",
      "3\n",
      "Help on built-in function pow in module builtins:\n",
      "\n",
      "pow(x, y, z=None, /)\n",
      "    Equivalent to x**y (with two arguments) or x**y % z (with three arguments)\n",
      "    \n",
      "    Some types, such as ints, are able to use a more efficient algorithm when\n",
      "    invoked using the three argument form.\n",
      "\n",
      "None\n"
     ]
    }
   ],
   "source": [
    "print(pow(2,3))#prints out 2 to the third power\n",
    "print(abs(-3)) #absolute value of 3\n",
    "print(help(pow))"
   ]
  },
  {
   "cell_type": "code",
   "execution_count": 20,
   "metadata": {},
   "outputs": [
    {
     "name": "stdout",
     "output_type": "stream",
     "text": [
      "SIMPLE\n",
      "simple\n",
      "Simple\n",
      "1\n",
      "tanish\n"
     ]
    }
   ],
   "source": [
    "string = \"simple\"\n",
    "\n",
    "print(string.upper()) #prints string in all caps\n",
    "print(string.lower()) #prints string in all lowercase\n",
    "print(string.capitalize()) #capitalizing first letter of string\n",
    "print(string.count(\"s\")) #counts instance of letter s\n",
    "print(string.replace(\"simple\", \"tanish\")) #replaces word simple with Tanish"
   ]
  },
  {
   "cell_type": "code",
   "execution_count": null,
   "metadata": {},
   "outputs": [],
   "source": [
    "myList = [1, 2, 1000, 289, 40.2, -20]\n",
    "myDict = {'apple': 4, 'orange': 2, 'strawberry':10}\n",
    "\n",
    "myList.sort() # sort and replace the list, not returning any value\n",
    "print(myList) # -> -20, 1, 2, 40.2, 289, 1000\n",
    "\n",
    "myList.pop(3)\n",
    "print(myList) # -> -20, 1, 2, 289, 1000\n",
    "\n",
    "myDict.pop('apple')\n",
    "print(myDict) # -> only orange and strawberry\n",
    "\n",
    "mySecondList = myDict.values()\n",
    "print(mySecondList) # -> [2, 10]"
   ]
  },
  {
   "cell_type": "code",
   "execution_count": null,
   "metadata": {},
   "outputs": [],
   "source": []
  }
 ],
 "metadata": {
  "kernelspec": {
   "display_name": "Python 3",
   "language": "python",
   "name": "python3"
  },
  "language_info": {
   "codemirror_mode": {
    "name": "ipython",
    "version": 3
   },
   "file_extension": ".py",
   "mimetype": "text/x-python",
   "name": "python",
   "nbconvert_exporter": "python",
   "pygments_lexer": "ipython3",
   "version": "3.7.3"
  }
 },
 "nbformat": 4,
 "nbformat_minor": 2
}
